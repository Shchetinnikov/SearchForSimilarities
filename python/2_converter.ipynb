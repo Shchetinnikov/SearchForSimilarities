{
 "cells": [
  {
   "cell_type": "markdown",
   "id": "fb351bc5",
   "metadata": {},
   "source": [
    "# НИР. Множественное выравнивание границ экзон-интрон и интрон-экзон"
   ]
  },
  {
   "cell_type": "markdown",
   "id": "af03faa0",
   "metadata": {},
   "source": [
    "## 2. Конвертирование результатов"
   ]
  },
  {
   "cell_type": "code",
   "execution_count": 4,
   "id": "5afcf916",
   "metadata": {},
   "outputs": [],
   "source": [
    "import os"
   ]
  },
  {
   "cell_type": "markdown",
   "id": "d2662035",
   "metadata": {
    "id": "SmRlH2cwd7AN"
   },
   "source": [
    "##### Форматирование MAHDS-результатов к формату fasta\n"
   ]
  },
  {
   "cell_type": "code",
   "execution_count": 1,
   "id": "0cae16de",
   "metadata": {
    "id": "pvgN5qaPL6xd"
   },
   "outputs": [],
   "source": [
    "# files_paths = ['C:/Users/kshch/Projects/УИР/src/data/methods/mahds/align/pre/len_50/', \n",
    "#                'C:/Users/kshch/Projects/УИР/src/data/methods/mahds/align/pre/len_100/']\n",
    "# target_paths = ['C:/Users/kshch/Projects/УИР/src/data/methods/mahds/align/fasta/len_50/',\n",
    "#                 'C:/Users/kshch/Projects/УИР/src/data/methods/mahds/align/fasta/len_100/']"
   ]
  },
  {
   "cell_type": "code",
   "execution_count": 28,
   "id": "2fa6311a",
   "metadata": {},
   "outputs": [],
   "source": [
    "files_paths = 'C:/Users/kshch/Projects/УИР/src/data/methods/mahds/align/datasets/pre/'\n",
    "target_paths = 'C:/Users/kshch/Projects/УИР/src/data/methods/mahds/align/datasets/'"
   ]
  },
  {
   "cell_type": "code",
   "execution_count": 5,
   "id": "141e1a7e",
   "metadata": {},
   "outputs": [],
   "source": [
    "files_paths = 'C:/Users/kshch/Projects/УИР/src/data/borders/'\n",
    "target_paths = 'C:/Users/kshch/Projects/УИР/src/data/borders/'"
   ]
  },
  {
   "cell_type": "code",
   "execution_count": 6,
   "id": "cee12733",
   "metadata": {
    "id": "S5rHagy2tVIf"
   },
   "outputs": [],
   "source": [
    "def convert_as_fasta(file_path, target_path):\n",
    "    os.chdir(r\"{}\".format(file_path))\n",
    "    file = 'test3.txt'\n",
    "#     for file in os.listdir():\n",
    "    fasta_line = '' \n",
    "    file_name = file.split('.')[0]\n",
    "\n",
    "    with open(file_path + file, 'r') as file_txt:\n",
    "        lines = file_txt.readlines()[1].split('<br>>')[1:-1]\n",
    "\n",
    "        for i in range(len(lines)):\n",
    "            line = lines[i]\n",
    "            header = '>' + str(i + 1) + '\\n'\n",
    "            align_line = ''.join(line.split('<br>')[1:]) + '\\n\\n'\n",
    "            fasta_line += header + align_line\n",
    "\n",
    "    with open(target_path + file_name + '.fasta', 'w') as file_fa:\n",
    "        file_fa.write(fasta_line)"
   ]
  },
  {
   "cell_type": "code",
   "execution_count": 7,
   "id": "620e82b1",
   "metadata": {},
   "outputs": [],
   "source": [
    "# for file_path, target_path in zip(files_paths, target_paths):\n",
    "convert_as_fasta(files_paths, target_paths)"
   ]
  },
  {
   "cell_type": "markdown",
   "id": "79820d51",
   "metadata": {
    "id": "SmRlH2cwd7AN"
   },
   "source": [
    "##### Форматирование MAHDS-результатов к формату sto\n"
   ]
  },
  {
   "cell_type": "code",
   "execution_count": 45,
   "id": "2239301b",
   "metadata": {},
   "outputs": [],
   "source": [
    "file_path = \"C:/Users/kshch/Projects/УИР/src/data/methods/mahds/align/datasets/fasta/\"\n",
    "target_path = \"C:/Users/kshch/Projects/УИР/src/data/methods/mahds/align/datasets/sto/\""
   ]
  },
  {
   "cell_type": "code",
   "execution_count": 46,
   "id": "ef2c3d3c",
   "metadata": {},
   "outputs": [],
   "source": [
    "def convert_as_sto(file_path, target_path):\n",
    "    os.chdir(r\"{}\".format(file_path))\n",
    "    for file in os.listdir():\n",
    "        sto_line = '' \n",
    "        file_name = file.split('.')[0]\n",
    "        \n",
    "        with open(file_path + file, 'r') as file_fa:\n",
    "            lines = file_fa.readlines()[1:]\n",
    "        \n",
    "        with open(target_path + file_name + '.sto', 'w') as file_sto:\n",
    "            file_sto.write('# STOCKHOLM 1.0\\n\\n')\n",
    "                    \n",
    "            num = 0\n",
    "            for i in range(0, len(lines) - 1, 3):\n",
    "                num += 1\n",
    "                file_sto.write(f'JJ{num} ' + lines[i].replace('-', '.'))\n",
    "            file_sto.write('//')"
   ]
  },
  {
   "cell_type": "code",
   "execution_count": 47,
   "id": "fedc3cd1",
   "metadata": {},
   "outputs": [],
   "source": [
    "# for file_path, target_path in zip(files_paths, target_paths):\n",
    "convert_as_sto(file_path, target_path)"
   ]
  },
  {
   "cell_type": "markdown",
   "id": "75d7b5c2",
   "metadata": {
    "id": "SmRlH2cwd7AN"
   },
   "source": [
    "##### Форматирование строчного результата к формату fasta\n"
   ]
  },
  {
   "cell_type": "code",
   "execution_count": 8,
   "id": "e246ee5d",
   "metadata": {},
   "outputs": [],
   "source": [
    "file_path = 'C:/Users/kshch/Projects/УИР/src/data/methods/mahds/align/'\n",
    "target_path = 'C:/Users/kshch/Projects/УИР/src/data/methods/mahds/align/'"
   ]
  },
  {
   "cell_type": "code",
   "execution_count": 9,
   "id": "18792909",
   "metadata": {},
   "outputs": [],
   "source": [
    "os.chdir(r\"{}\".format(file_path))"
   ]
  },
  {
   "cell_type": "code",
   "execution_count": 10,
   "id": "c8dc4868",
   "metadata": {},
   "outputs": [
    {
     "data": {
      "text/plain": [
       "['datasets',\n",
       " 'experience(forward)',\n",
       " 'multi.fasta',\n",
       " 'multi.txt',\n",
       " 'multi_2000.fasta',\n",
       " 'multi_2000.txt',\n",
       " 'pre']"
      ]
     },
     "execution_count": 10,
     "metadata": {},
     "output_type": "execute_result"
    }
   ],
   "source": [
    "os.listdir()"
   ]
  },
  {
   "cell_type": "code",
   "execution_count": 11,
   "id": "3833a379",
   "metadata": {},
   "outputs": [],
   "source": [
    "file = 'multi_2000.txt'\n",
    "file_name = 'multi_2000'\n",
    "\n",
    "with open(file_path + file, 'r') as file_fa:\n",
    "    lines = file_fa.readlines()\n",
    "    \n",
    "    fasta_line = ''\n",
    "    \n",
    "    for i in range(len(lines)):\n",
    "        lines[i] = lines[i].replace('.', '-')\n",
    "        header = '>' + str(i + 1) + '\\n'\n",
    "        align_line = lines[i] + '\\n'\n",
    "        fasta_line += header + align_line\n",
    "\n",
    "with open(target_path + file_name + '.fasta', 'w') as file_fa:\n",
    "    file_fa.write(fasta_line)"
   ]
  },
  {
   "cell_type": "code",
   "execution_count": 46,
   "id": "b7ab2e4a",
   "metadata": {},
   "outputs": [],
   "source": [
    "# file = 'multi_2000.txt'\n",
    "# file_name = 'multi_2000'\n",
    "# fasta_line = ''\n",
    "\n",
    "\n",
    "# with open(file_path + file, 'r') as file_fa:\n",
    "#     lines = file_fa.readlines()\n",
    "\n",
    "# with open(file_path + file, 'r') as file_fa:\n",
    "#     lines = file_fa.readlines()[1:]\n",
    "        \n",
    "#     with open(target_path + file_name + '.fasta', 'w') as file_sto:\n",
    "# #         file_sto.write('# STOCKHOLM 1.0\\n\\n')\n",
    "\n",
    "#         num = 0\n",
    "#         for i in range(0, len(lines) - 1, 3):\n",
    "#             num += 1\n",
    "#             lines[i] = lines[i].replace('-', '.')\n",
    "#             header = '>' + str(i + 1) + '\\n'\n",
    "#             align_line = lines[i] + '\\n'\n",
    "#             fasta_line += header + align_line\n",
    "\n",
    "#             file_sto.write(fasta_line)\n",
    "# #         file_sto.write('//')"
   ]
  }
 ],
 "metadata": {
  "kernelspec": {
   "display_name": "Python 3",
   "language": "python",
   "name": "python3"
  },
  "language_info": {
   "codemirror_mode": {
    "name": "ipython",
    "version": 3
   },
   "file_extension": ".py",
   "mimetype": "text/x-python",
   "name": "python",
   "nbconvert_exporter": "python",
   "pygments_lexer": "ipython3",
   "version": "3.8.8"
  }
 },
 "nbformat": 4,
 "nbformat_minor": 5
}
