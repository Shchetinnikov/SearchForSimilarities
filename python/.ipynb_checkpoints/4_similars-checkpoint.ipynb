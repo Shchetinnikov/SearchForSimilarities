{
 "cells": [
  {
   "cell_type": "markdown",
   "id": "fb351bc5",
   "metadata": {},
   "source": [
    "# НИР. Множественное выравнивание границ экзон-интрон и интрон-экзон"
   ]
  },
  {
   "cell_type": "markdown",
   "id": "5cfb1a19",
   "metadata": {},
   "source": [
    "## 4. Поиск подобий"
   ]
  },
  {
   "cell_type": "code",
   "execution_count": 1,
   "id": "f3ce9cbb",
   "metadata": {},
   "outputs": [],
   "source": [
    "import os\n",
    "import numpy as np\n",
    "import time\n",
    "from threading import Thread"
   ]
  },
  {
   "cell_type": "markdown",
   "id": "3f5d6f46",
   "metadata": {
    "id": "SmRlH2cwd7AN"
   },
   "source": [
    "##### Создание случайных матриц из множественного выравнивания\n"
   ]
  },
  {
   "cell_type": "markdown",
   "id": "1366e2a8",
   "metadata": {},
   "source": [
    "###### 1. Функции\n"
   ]
  },
  {
   "cell_type": "code",
   "execution_count": 2,
   "id": "755fad6a",
   "metadata": {},
   "outputs": [],
   "source": [
    "# Чтение и обработка файла\n",
    "\n",
    "def preproc(file_name):\n",
    "    with open(file_name, 'r') as file:\n",
    "        lines = ''.join(file.readlines()).split('\\n\\n')[:-1]\n",
    "\n",
    "        for i in range(len(lines)):\n",
    "            lines[i] = lines[i].split('\\n')[1]\n",
    "    return lines"
   ]
  },
  {
   "cell_type": "code",
   "execution_count": 3,
   "id": "bf45a15b",
   "metadata": {},
   "outputs": [],
   "source": [
    "# Подсчет частот\n",
    "\n",
    "def frequancy(lines):\n",
    "    line_len = len(lines[0])\n",
    "    freq_arr = np.zeros((4, line_len))\n",
    "\n",
    "    for line in lines:\n",
    "        for i in range(line_len):\n",
    "            if line[i] == 'A':\n",
    "                freq_arr[0][i] += 1\n",
    "            elif line[i] == 'T':\n",
    "                freq_arr[1][i] += 1\n",
    "            elif line[i] == 'C':\n",
    "                freq_arr[2][i] += 1\n",
    "            elif line[i] == 'G':\n",
    "                freq_arr[3][i] += 1\n",
    "    \n",
    "    return freq_arr"
   ]
  },
  {
   "cell_type": "code",
   "execution_count": 4,
   "id": "44d33a12",
   "metadata": {},
   "outputs": [],
   "source": [
    "# # Зануление разреженных столбцов\n",
    "\n",
    "# def clean_data(lines, freq_arr):\n",
    "#     M = freq_arr.sum(axis=0)\n",
    "#     L = len(lines)\n",
    "\n",
    "#     M = np.where(M <= L / 2, 0, M)\n",
    "#     freq_arr = np.where(M == 0, 0, freq_arr)\n",
    "\n",
    "#     # indexes = np.argwhere(M == 0).flatten()\n",
    "\n",
    "#     # indexes_to_drop = np.argwhere(M <= L / 2).flatten()\n",
    "\n",
    "#     # data = np.array(list(''.join(lines))).reshape(len(lines), len(lines[0]))\n",
    "\n",
    "#     # freq_arr = np.delete(freq_arr, indexes_to_drop, 1)\n",
    "#     # data     = np.delete(data, indexes_to_drop, 1)\n",
    "\n",
    "#     return freq_arr"
   ]
  },
  {
   "cell_type": "code",
   "execution_count": 5,
   "id": "0abc13ae",
   "metadata": {},
   "outputs": [],
   "source": [
    "# Подсчет вероятностей\n",
    "\n",
    "def probability(freq_arr):\n",
    "    N = freq_arr.sum(axis=0).sum()\n",
    "    n = freq_arr.sum(axis=1)\n",
    "\n",
    "    return  n / N"
   ]
  },
  {
   "cell_type": "markdown",
   "id": "53d0e37d",
   "metadata": {},
   "source": [
    "###### 2. Создание матрицы PWM"
   ]
  },
  {
   "cell_type": "code",
   "execution_count": 6,
   "id": "3af75939",
   "metadata": {},
   "outputs": [],
   "source": [
    "path = 'C:/Users/kshch/Projects/УИР/src/data/methods/mahds/align/datasets/fasta/'\n",
    "os.chdir(r\"{}\".format(path))"
   ]
  },
  {
   "cell_type": "code",
   "execution_count": 7,
   "id": "0929a94d",
   "metadata": {},
   "outputs": [],
   "source": [
    "# Пока рассмотрим один набор\n",
    "file = 'exon_intron_forward_200.fasta'"
   ]
  },
  {
   "cell_type": "code",
   "execution_count": 8,
   "id": "3bcb10a2",
   "metadata": {},
   "outputs": [],
   "source": [
    "# Предобработка\n",
    "file_name = file.split('.')[0]\n",
    "\n",
    "lines = preproc(file)"
   ]
  },
  {
   "cell_type": "code",
   "execution_count": 9,
   "id": "4ce9a9cf",
   "metadata": {},
   "outputs": [
    {
     "data": {
      "text/plain": [
       "['CCATGAGGGCC-ACGT-G-TACGGC-TTCGGCCTCTC-CAA-CTACC-A-TCAGCTTG--G--T-G-A-G-C-CC-CGAGCCCA-G-CTTCA-GGC-A-TGACCCAGTGG-CC-TGCG-TTCCTGTTT-',\n",
       " 'CAGTGATGATG-ATGA-A-C--AAG-GAAGTAACAGT-CCT-AAAGA-G-AATAACAG--G--T-A-A-G-T-TG-TGATATCT-T-TTACT-AAT-A-ACAGTATGAAT-TT-GTTG-ATACAATGC-',\n",
       " 'TGGCCACCGCC-ACGC-T-C--GGC-TTCGCGGTGCT-GCT-GTTCC-T-CAACAACT--G--T-A-G-G-T-GG-CCGCGGGC-G-GGGCG-TCG-C-ACTGGCCAAGC-CC-CAAC-CCCGAGGAG-',\n",
       " 'AAAGGAAAATC-ACTT-T-A--TAA-AATAAAACCAA-GAC-ATGAC-T-CTGGAATT--G--T-A-A-G-T-AT-TACTGATT-T-TTAAC-TTG-T-TATTTTCTTTG-GC-TTTT-AAATCCTAC-',\n",
       " 'AAAGCCACTGA-ACAG-T-A--TTA-TGCCATGAAGA-TCT-TAGAT-A-AGCAGAAG--G--T-G-A-G-T-GT-ATTTGTTG-T-TATTT-ACC-T-TCAGGGTAAAC-TT-TAGT-TTTATCATG-',\n",
       " 'TACCAGCTACC-CCAC-C-C--CGA-ACAGGATCCCC-CTT-AACAA-T-TGGACCAG--G--T-A-C-G-C-TT-TTGTTTTT-T-CAGTT-CTG-G-GATGATGTGTC-AA-ACAG-AGCAGTGAT-',\n",
       " 'GCTGACATGTA-CAAC-G-C--TCT-CTGTAAGACCC-TGC-AGCGT-G-ACTGTTTG--G--T-G-A-G-T-TT-GTTACTTA-G-ACATC-AAA-A-ATCTCAGTTAC-TA-AAAC-AGCTTGATG-',\n",
       " 'TGTGATGATAG-TATT-G-G--CAT-TTATAATACTG-AAC-TATGG-A-CCTATGAG--G--T-A-A-G-T-GA-ATAGATAT-T-TATTT-TGG-A-CACTAATGCTA-AA-AACT-TAAATTCTC-',\n",
       " 'CTTATTTTAGA-TCGC-T-G--TGA-TGATGCCATCA-CCC-CATTG-C-TAAACCAG--G--T-A-C-A-A-AA-CCCTTTCT-T-GGCAT-AAT-A-GAAGGATAATT-TT-AAGT-GATATTCAA-',\n",
       " 'TTACACCCAGA-CTTT-G-G--ATC-TCTTTGAGAAG-CTG-TGCCG-T-GCCCGAAG--G--T-A-G-G-G-AA-GATCCTAA-C-CAGGA-TGC-C-AAAGGGGGATA-TA-CCCC-TCCCCTACC-']"
      ]
     },
     "execution_count": 9,
     "metadata": {},
     "output_type": "execute_result"
    }
   ],
   "source": [
    "lines[:10]"
   ]
  },
  {
   "cell_type": "code",
   "execution_count": 10,
   "id": "083adf58",
   "metadata": {},
   "outputs": [],
   "source": [
    "# # Перемешивание символов\n",
    "\n",
    "# count_lines = len(lines)\n",
    "# line_len = len(lines[0])\n",
    "# lines = ''.join(lines)\n",
    "\n",
    "# data_shuffled = list(''.join(lines.split('.')))\n",
    "# lines = list(lines)\n",
    "\n",
    "# np.random.shuffle(data_shuffled)\n",
    "\n",
    "# index = 0\n",
    "# for i in range(len(lines)):\n",
    "#     if lines[i] != '.':\n",
    "#         lines[i] = data_shuffled[index]\n",
    "#         index += 1\n",
    "\n",
    "# lines = np.array(lines).reshape(count_lines, line_len)\n",
    "# lines = [''.join(line) for line in lines]"
   ]
  },
  {
   "cell_type": "markdown",
   "id": "2a86edc9",
   "metadata": {},
   "source": [
    "> **Расчет вероятности появления основания i-го типа: $p(i) = \\frac{n(i)}{K_2}$, $K_2 = N \\cdot L$**"
   ]
  },
  {
   "cell_type": "code",
   "execution_count": 11,
   "id": "847324fa",
   "metadata": {},
   "outputs": [],
   "source": [
    "# Подсчет вероятностей\n",
    "\n",
    "# подсчет частот в каждой позиции\n",
    "freq_arr = frequancy(lines)\n",
    "\n",
    "# # зануление разреженных столбцов\n",
    "# freq_arr_clear = clean_data(lines, freq_arr)\n",
    "\n",
    "# подсчет вероятностей\n",
    "prob = probability(freq_arr)"
   ]
  },
  {
   "cell_type": "code",
   "execution_count": 12,
   "id": "73490db1",
   "metadata": {},
   "outputs": [
    {
     "data": {
      "text/plain": [
       "array([0.2581 , 0.25775, 0.22635, 0.2578 ])"
      ]
     },
     "execution_count": 12,
     "metadata": {},
     "output_type": "execute_result"
    }
   ],
   "source": [
    "# 'A' 'T' 'C' 'G';\n",
    "prob"
   ]
  },
  {
   "cell_type": "markdown",
   "id": "c003928a",
   "metadata": {},
   "source": [
    "> **Расчет вероятности нахождения пары i-го и j-го типа: $f(i, j) = p(i) \\cdot p(j)$**"
   ]
  },
  {
   "cell_type": "code",
   "execution_count": 13,
   "id": "6657aeff",
   "metadata": {},
   "outputs": [],
   "source": [
    "f = prob.reshape(-1, 1).dot(prob.reshape(1, prob.shape[0]))"
   ]
  },
  {
   "cell_type": "code",
   "execution_count": 14,
   "id": "39548693",
   "metadata": {},
   "outputs": [],
   "source": [
    "f = f.reshape((16, 1))"
   ]
  },
  {
   "cell_type": "markdown",
   "id": "ace989bd",
   "metadata": {},
   "source": [
    "> **t(i, j, k) - кол-во пар (i, j) в позициях k-1 и k, где k=2..L, 16xL**"
   ]
  },
  {
   "cell_type": "code",
   "execution_count": 15,
   "id": "10b425b4",
   "metadata": {},
   "outputs": [],
   "source": [
    "'AA' 'AT' 'AC' 'AG'  \n",
    "'TA' 'TT' 'TC' 'TG' \n",
    "'CA' 'CT' 'CC' 'CG' \n",
    "'GA' 'GT' 'GC' 'GG';"
   ]
  },
  {
   "cell_type": "code",
   "execution_count": 16,
   "id": "ca11a73a",
   "metadata": {},
   "outputs": [
    {
     "data": {
      "text/plain": [
       "129"
      ]
     },
     "execution_count": 16,
     "metadata": {},
     "output_type": "execute_result"
    }
   ],
   "source": [
    "L = len(lines[0])\n",
    "L"
   ]
  },
  {
   "cell_type": "code",
   "execution_count": 17,
   "id": "52224457",
   "metadata": {},
   "outputs": [],
   "source": [
    "t = np.zeros((16, L))"
   ]
  },
  {
   "cell_type": "code",
   "execution_count": 18,
   "id": "38b7757a",
   "metadata": {},
   "outputs": [],
   "source": [
    "temp = np.array([[item]*4 for item in freq_arr[:,0]]).flatten()\n",
    "\n",
    "t[:,0] = temp"
   ]
  },
  {
   "cell_type": "code",
   "execution_count": 19,
   "id": "471da5dd",
   "metadata": {},
   "outputs": [],
   "source": [
    "for line in lines:\n",
    "    for k in range(1, L):\n",
    "        first = line[k - 1]\n",
    "        second = line[k]\n",
    "        \n",
    "        if first == 'A':\n",
    "            if second   == 'A': t[0, k] += 1\n",
    "            elif second == 'T': t[1, k] += 1\n",
    "            elif second == 'C': t[2, k] += 1\n",
    "            elif second == 'G': t[3, k] += 1\n",
    "            \n",
    "        elif first == 'T':\n",
    "            if second   == 'A': t[4, k] += 1\n",
    "            elif second == 'T': t[5, k] += 1\n",
    "            elif second == 'C': t[6, k] += 1\n",
    "            elif second == 'G': t[7, k] += 1\n",
    "                \n",
    "        elif first == 'C':\n",
    "            if second   == 'A': t[8, k] += 1\n",
    "            elif second == 'T': t[9, k] += 1\n",
    "            elif second == 'C': t[10, k] += 1   \n",
    "            elif second == 'G': t[11, k] += 1\n",
    "                \n",
    "        elif first == 'G':\n",
    "            if second   == 'A': t[12, k] += 1\n",
    "            elif second == 'T': t[13, k] += 1\n",
    "            elif second == 'C': t[14, k] += 1\n",
    "            elif second == 'G': t[15, k] += 1\n",
    "            "
   ]
  },
  {
   "cell_type": "markdown",
   "id": "7ce346c6",
   "metadata": {},
   "source": [
    "> $x(i, j, k) = \\frac{t(i,j,k) - N f(i,j)}{\\sqrt{N f(i,j) (1 - f(i,j))}}$"
   ]
  },
  {
   "cell_type": "markdown",
   "id": "87afa27d",
   "metadata": {},
   "source": [
    "> $x(i, j, 1) = \\frac{t(i,1) - N p(i)}{\\sqrt{N p(i) (1 - p(i))}}$"
   ]
  },
  {
   "cell_type": "code",
   "execution_count": 20,
   "id": "65bc43b9",
   "metadata": {},
   "outputs": [],
   "source": [
    "N = len(lines)\n",
    "x = np.zeros((16, L))"
   ]
  },
  {
   "cell_type": "code",
   "execution_count": 21,
   "id": "ab8a1351",
   "metadata": {},
   "outputs": [],
   "source": [
    "# if k == 0:\n",
    "#         x[:, k] = \n",
    "#         x[:, k] = ((t[:, L - 2].reshape(-1, 1) - N * f) / np.sqrt(N * f * (1 - f)))[:, 0]\n",
    "\n",
    "for k in range(1, L):\n",
    "    x[:, k] = ((t[:, k].reshape(-1, 1) - N * f) / np.sqrt(N * f * (1 - f)))[:, 0]"
   ]
  },
  {
   "cell_type": "code",
   "execution_count": 22,
   "id": "278c6c35",
   "metadata": {},
   "outputs": [],
   "source": [
    "temp = np.array([[item]*4 for item in prob]).flatten()\n",
    "\n",
    "x[:, 0] = ((t[:, 0].reshape(-1, 1) - N * temp) / np.sqrt(N * temp * (1 - temp)))[:, 0]"
   ]
  },
  {
   "cell_type": "code",
   "execution_count": 23,
   "id": "351756e7",
   "metadata": {},
   "outputs": [
    {
     "name": "stdout",
     "output_type": "stream",
     "text": [
      "0.5461790209622532 1.326241984234995 0.7590935641842712 -0.09162906589181438 0.1919451441335475 -3.7780937962215186\n",
      "0.5461790209622532 -0.08656025534916036 -0.08656025534916036 -2.0728308866914547 -0.3703132026837738 -3.7753485706991357\n",
      "0.5461790209622532 -1.4122337233767945 -0.8092544984326177 0.6981935639278247 -0.20627527348844069 -3.522661010681414\n",
      "0.5461790209622532 1.0476248023388277 3.033716535540589 0.7638974118814332 3.8848987069127725 -3.775740835436878\n",
      "-1.5545095212002578 -1.2215720446876144 -2.0728308866914547 -1.5053249920222278 -2.0728308866914547 -3.491595623364522\n",
      "-1.5545095212002578 -0.08149198070139417 -0.9332874324820118 -1.5011510670024235 -0.9332874324820118 -3.7726056050840704\n",
      "-1.5545095212002578 -1.4083527965974976 1.9101442422492612 1.0050995952910542 -1.1066712476114287 -3.5201236394999804\n",
      "-1.5545095212002578 -0.08221640845339921 2.4729397643446815 -0.6500288912974171 -1.5017476155634442 -3.772997546939516\n",
      "0.06140474200167381 2.5071312387603557 0.09521433898364778 3.1101104637045327 1.9041520138161785 -3.522661010681414\n",
      "0.06140474200167381 1.9101442422492612 1.306781144277123 -0.8049896986253596 0.40173649731891625 -3.5201236394999804\n",
      "0.06140474200167381 0.24154504883942635 -0.3998934408863297 0.5622642937023044 0.5622642937023044 -3.286366644652232\n",
      "0.06140474200167381 -2.6155238921287562 -2.6155238921287562 -1.4089074724096473 -1.10725336747987 -3.5204862069180884\n",
      "-0.10018668431851935 0.4801700214240388 0.4801700214240388 2.1825343641684056 1.6150795832536167 -3.775740835436878\n",
      "-0.10018668431851935 -0.3661226498754082 -2.921278822673489 -1.2178413741414351 -0.3661226498754082 -3.772997546939516\n",
      "-0.10018668431851935 1.0043253670285712 0.7026712620987938 -0.5039451576203153 0.09936305223923925 -3.5204862069180884\n",
      "-0.10018668431851935 -1.2184635202734706 -0.9345828519786902 1.6203431626743334 -0.9345828519786902 -3.773389534926494\n"
     ]
    }
   ],
   "source": [
    "for i in x:\n",
    "    print(i[0], i[1], i[2], i[3], i[4], i[-1])"
   ]
  },
  {
   "cell_type": "code",
   "execution_count": 24,
   "id": "6a307cc2",
   "metadata": {
    "scrolled": true
   },
   "outputs": [
    {
     "data": {
      "text/plain": [
       "(16, 129)"
      ]
     },
     "execution_count": 24,
     "metadata": {},
     "output_type": "execute_result"
    }
   ],
   "source": [
    "x.shape"
   ]
  },
  {
   "cell_type": "code",
   "execution_count": 25,
   "id": "ab3d7a42",
   "metadata": {},
   "outputs": [],
   "source": [
    "# for i in range(4):\n",
    "#     p_i = prob[i]\n",
    "#     t_i = t[i * 4 : i * 4 + i, 0].sum() + t[i * 4 + i + 1: i * 4 + 4, 0].sum() +\\\n",
    "#           t[i, 0] + t[i + 4, 0] + t[i + 4*2, 0] + t[i + 4*3, 0]\n",
    "    \n",
    "#     for j in range(i * 4, i * 4 + 4):\n",
    "#         x[j, 0] = (t_i - N * p_i) / np.sqrt(N * p_i * (1 - p_i))"
   ]
  },
  {
   "cell_type": "code",
   "execution_count": 26,
   "id": "c941f654",
   "metadata": {},
   "outputs": [],
   "source": [
    "# x[:,0]"
   ]
  },
  {
   "cell_type": "markdown",
   "id": "22607ea1",
   "metadata": {},
   "source": [
    "###### 3. Глобальное выравнивание PWM и S1"
   ]
  },
  {
   "attachments": {
    "image.png": {
     "image/png": "[encoded data removed]"
    }
   },
   "cell_type": "markdown",
   "id": "78c7657b",
   "metadata": {},
   "source": [
    "![image.png](attachment:image.png)"
   ]
  },
  {
   "cell_type": "code",
   "execution_count": 27,
   "id": "34cade8e",
   "metadata": {},
   "outputs": [],
   "source": [
    "def clean_line(line):\n",
    "    return line.replace('N', '')"
   ]
  },
  {
   "cell_type": "code",
   "execution_count": 28,
   "id": "1be39aae",
   "metadata": {},
   "outputs": [],
   "source": [
    "def codering(line):\n",
    "    S1 = []\n",
    "    for i in range(len(line)):\n",
    "        if line[i] == 'A':\n",
    "            S1.append(1)\n",
    "            \n",
    "        elif line[i] == 'T':\n",
    "            S1.append(2)\n",
    "            \n",
    "        elif line[i] == 'C':\n",
    "            S1.append(3)\n",
    "            \n",
    "        elif line[i] == 'G':\n",
    "            S1.append(4)\n",
    "            \n",
    "        else:\n",
    "            S1 = []\n",
    "            break\n",
    "            \n",
    "    return np.array(S1)"
   ]
  },
  {
   "cell_type": "code",
   "execution_count": 29,
   "id": "44cb6a91",
   "metadata": {},
   "outputs": [],
   "source": [
    "class DynamicProgramming:\n",
    "    def __init__(self, S1, S2, a, d = 35, e = 8): #d = 25, e = 0.25\n",
    "        self.S1 = S1\n",
    "        self.S2 = S2\n",
    "        self.a  = a\n",
    "        self.d  = d\n",
    "        self.e  = e\n",
    "        self.r1 = np.array([]) \n",
    "        self.r2 = np.array([])\n",
    "        self.r3 = np.array([])\n",
    "        self.threading = False\n",
    "        \n",
    "    \n",
    "    def F_x(self, i, j):\n",
    "        if i == 0 and j == 0:\n",
    "            return 0.0\n",
    "        elif i == 0:\n",
    "            return self.F(i, j - 1) - self.d * j\n",
    "#         elif j == 0:\n",
    "#             return self.F(i - 1, j) - self.d * i\n",
    "        \n",
    "        r1 = self.F(i - 1, j)   - self.d\n",
    "        r2 = self.F_x(i - 1, j) - self.e\n",
    "        \n",
    "        return max(r1, r2)  \n",
    "        \n",
    "        \n",
    "    def F_y(self, i, j):\n",
    "        if i == 0 and j == 0:\n",
    "            return 0.0\n",
    "#         elif i == 0:\n",
    "#             return self.F(i, j - 1) - self.d * j\n",
    "        elif j == 0:\n",
    "            return self.F(i - 1, j) - self.d * i\n",
    "        \n",
    "        r1 = self.F(i, j - 1)   - self.d\n",
    "        r3 = self.F_y(i, j - 1) - self.e\n",
    "        \n",
    "        return max(r1, r3)\n",
    "    \n",
    "    \n",
    "    def F(self, i, j):\n",
    "#         if i == L and j == L and not self.threading:\n",
    "#             self.threading = True\n",
    "            \n",
    "#             n1  = S1[i - 2] + (S1[i - 1] - 1) * 4\n",
    "#             n2  = S1[i - 3] + (S1[i - 1] - 1) * 4\n",
    "            \n",
    "#             thr1 = Thread(target=self.F, args=(i - 1, j - 1)) \n",
    "#             thr2 = Thread(target=self.F_x, args=(i - 1, j - 1)) \n",
    "#             thr3 = Thread(target=self.F_y, args=(i - 1, j - 1)) \n",
    "            \n",
    "#             thr1.start()\n",
    "#             thr2.start()\n",
    "#             thr3.start()\n",
    "            \n",
    "#             thr1.join()\n",
    "#             thr2.join()\n",
    "#             thr3.join()\n",
    "            \n",
    "#             r1 = self.r1[0] + self.a[n1 - 1, S2[j - 1] - 1]\n",
    "#             r2 = self.r2[0] + self.a[n2 - 1, S2[j - 1] - 1]\n",
    "#             r3 = self.r3[0] + self.a[n2 - 1, S2[j - 1] - 1]\n",
    "        \n",
    "#             return max(r1, r2, r3)\n",
    "        \n",
    "        if i == 0 and j == 0:\n",
    "            return 0.0\n",
    "        elif i == 0:\n",
    "            return self.F(i, j - 1) - self.d * j\n",
    "        elif j == 0:\n",
    "            return self.F(i - 1, j) - self.d * i\n",
    "                \n",
    "        if i == 1 or j == 1:\n",
    "            print('--i--:', i, '--j--:', j)\n",
    "            n  = S1[i - 1]\n",
    "            \n",
    "#             r10 = self.F(i - 1, j - 1)\n",
    "#             r20 = self.F(i, j - 1)\n",
    "#             r30 = self.F(i - 1, j)\n",
    "            \n",
    "            r1 = self.F(i - 1, j - 1) + self.a[n - 1, S2[j - 1] - 1]\n",
    "            r2 = self.F(i, j - 1)     + self.a[n - 1, S2[j - 1] - 1]\n",
    "            r3 = self.F(i - 1, j)     + self.a[n - 1, S2[j - 1] - 1]\n",
    "            \n",
    "        else:\n",
    "            n1  = S1[i - 2] + (S1[i - 1] - 1) * 4\n",
    "            n2  = S1[i - 3] + (S1[i - 1] - 1) * 4\n",
    "            \n",
    "#             r10 = self.F(i - 1, j - 1)  \n",
    "#             r20 = self.F_x(i - 1, j - 1)\n",
    "#             r30 = self.F_y(i - 1, j - 1)\n",
    "            \n",
    "            r1 = self.F(i - 1, j - 1)   + self.a[n1 - 1, S2[j - 1] - 1]\n",
    "            r2 = self.F_x(i - 1, j - 1) + self.a[n2 - 1, S2[j - 1] - 1]\n",
    "            r3 = self.F_y(i - 1, j - 1) + self.a[n2 - 1, S2[j - 1] - 1]\n",
    "\n",
    "#         self.r1 = np.append(self.r1, r10)\n",
    "#         self.r2 = np.append(self.r2, r20)\n",
    "#         self.r3 = np.append(self.r3, r30)\n",
    "#         print(max(r1, r2, r3))\n",
    "        \n",
    "        return max(r1, r2, r3)"
   ]
  },
  {
   "cell_type": "code",
   "execution_count": 30,
   "id": "715f753e",
   "metadata": {},
   "outputs": [],
   "source": [
    "a = x"
   ]
  },
  {
   "cell_type": "code",
   "execution_count": 31,
   "id": "34c8dbe4",
   "metadata": {},
   "outputs": [],
   "source": [
    "path = 'C:/Users/kshch/Projects/УИР/src/data/'\n",
    "os.chdir(r\"{}\".format(path))"
   ]
  },
  {
   "cell_type": "code",
   "execution_count": 32,
   "id": "244ededb",
   "metadata": {},
   "outputs": [],
   "source": [
    "dna_file = 'Homo_sapiens.GRCh38.dna.chromosome.1.fa'"
   ]
  },
  {
   "cell_type": "code",
   "execution_count": 33,
   "id": "beb31f17",
   "metadata": {},
   "outputs": [],
   "source": [
    "S2 = []\n",
    "for i in range(1, L):\n",
    "    S2.append(i)\n",
    "S2 = np.array(S2)"
   ]
  },
  {
   "cell_type": "code",
   "execution_count": 34,
   "id": "181089dd",
   "metadata": {},
   "outputs": [],
   "source": [
    "L = 5"
   ]
  },
  {
   "cell_type": "code",
   "execution_count": 35,
   "id": "d06ef040",
   "metadata": {},
   "outputs": [
    {
     "name": "stdout",
     "output_type": "stream",
     "text": [
      "--- 1.8932216167449951 seconds ---\n"
     ]
    }
   ],
   "source": [
    "start_time = time.time()\n",
    "\n",
    "with open(path + dna_file, 'r') as file:\n",
    "    lines = ''.join(''.join(file.readlines()[1:]).split('\\n'))\n",
    "#     lines = clean_line(lines) \n",
    "    print(\"--- %s seconds ---\" % (time.time() - start_time))\n",
    "#     offset = 10\n",
    "#     index  = 0    \n",
    "    \n",
    "#     while index + L < len(lines):\n",
    "#         line = lines[index : index + L]\n",
    "#         S1 = codering(line)\n",
    "        \n",
    "#         DP = DynamicProgramming(S1, S2, a)\n",
    "        \n",
    "#         F_max = DP.F(L, L)\n",
    "        \n",
    "#         index += offset\n",
    "#         print(F_max)\n",
    "        \n",
    "#         print(\"--- %s seconds ---\" % (time.time() - start_time))\n",
    "#         break"
   ]
  },
  {
   "cell_type": "code",
   "execution_count": 36,
   "id": "dee66877",
   "metadata": {},
   "outputs": [
    {
     "name": "stdout",
     "output_type": "stream",
     "text": [
      "Результаты работы (L=5):\n",
      "С потоками: F = 1.1084433146645576, 2.1800003051757812 sc\n",
      "Без потоков: F = 4.891087087204201, 2.153564453125 sc\n",
      "\n"
     ]
    }
   ],
   "source": [
    "print(\n",
    "'''Результаты работы (L=5):\n",
    "С потоками: F = 1.1084433146645576, 2.1800003051757812 sc\n",
    "Без потоков: F = 4.891087087204201, 2.153564453125 sc\n",
    "''')"
   ]
  },
  {
   "cell_type": "code",
   "execution_count": 37,
   "id": "cd27078a",
   "metadata": {},
   "outputs": [
    {
     "name": "stdout",
     "output_type": "stream",
     "text": [
      "Результаты работы (L=10):\n",
      "С потоками: F = 1.5458621973621665, 12.08782410621643 sc\n",
      "Без потоков: F = 5.148063868721697, 12.855501651763916 sc\n",
      "\n"
     ]
    }
   ],
   "source": [
    "print(\n",
    "'''Результаты работы (L=10):\n",
    "С потоками: F = 1.5458621973621665, 12.08782410621643 sc\n",
    "Без потоков: F = 5.148063868721697, 12.855501651763916 sc\n",
    "''')"
   ]
  },
  {
   "cell_type": "code",
   "execution_count": null,
   "id": "58293a16",
   "metadata": {},
   "outputs": [],
   "source": []
  }
 ],
 "metadata": {
  "kernelspec": {
   "display_name": "Python 3",
   "language": "python",
   "name": "python3"
  },
  "language_info": {
   "codemirror_mode": {
    "name": "ipython",
    "version": 3
   },
   "file_extension": ".py",
   "mimetype": "text/x-python",
   "name": "python",
   "nbconvert_exporter": "python",
   "pygments_lexer": "ipython3",
   "version": "3.8.8"
  }
 },
 "nbformat": 4,
 "nbformat_minor": 5
}
